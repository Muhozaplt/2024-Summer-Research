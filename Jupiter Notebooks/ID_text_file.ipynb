{
 "cells": [
  {
   "cell_type": "markdown",
   "metadata": {},
   "source": [
    "# VREs Project 2024\n",
    "#### Student: Pilote Muhoza\n",
    "#### Superviser: Dr. Michael Cowley\n",
    "#### Queensland University of Technology (QUT) \n",
    "> School of Chemistry & Physics"
   ]
  },
  {
   "cell_type": "markdown",
   "metadata": {},
   "source": [
    "### Generating a .txt file of IDs of all the galaxies I need to analyse"
   ]
  },
  {
   "cell_type": "code",
   "execution_count": 1,
   "metadata": {},
   "outputs": [
    {
     "data": {
      "text/plain": [
       "array([(1.0000e+00, 2.3768, 7. , 0.02, 7.5, 1.2, 9.34,  1.07,  -8.27,  0.5, 8.   ),\n",
       "       (2.0000e+00, 0.551 , 7.4, 0.02, 8.8, 1.3, 8.1 , -9.7 , -17.81,  1.4, 0.738),\n",
       "       (3.0000e+00, 2.2125, 8.2, 0.02, 8.5, 0. , 8.81, -0.04,  -8.84,  0.3, 0.684),\n",
       "       ...,\n",
       "       (2.0784e+04, 1.6712, 8.8, 0.02, 8.8, 0.4, 9.32,  0.46,  -8.86,  0. , 0.838),\n",
       "       (2.0785e+04, 0.8468, 8.4, 0.02, 8.3, 0.4, 8.43,  0.08,  -8.35, -0.1, 1.95 ),\n",
       "       (2.0786e+04, 1.061 , 7.4, 0.02, 8. , 0.2, 8.04, -0.95,  -8.99,  0.6, 1.61 )],\n",
       "      dtype=[('id', '<f8'), ('z', '<f8'), ('ltau', '<f8'), ('metal', '<f8'), ('lage', '<f8'), ('Av', '<f8'), ('lmass', '<f8'), ('lsfr', '<f8'), ('lssfr', '<f8'), ('la2t', '<f8'), ('chi2', '<f8')])"
      ]
     },
     "execution_count": 1,
     "metadata": {},
     "output_type": "execute_result"
    }
   ],
   "source": [
    "import numpy as np\n",
    "import pandas as pd\n",
    "\n",
    "data= np.genfromtxt(\"cosmos.v1.3.6.fout\", names = True) # load COSMOS data from ZFOURGE Survey (see READ me file for the data contained in .fout file)\n",
    "data"
   ]
  },
  {
   "cell_type": "markdown",
   "metadata": {},
   "source": [
    "##### Selecting the high quality data from the ZFOURGE Survey with \"use\" value found in .cat file"
   ]
  },
  {
   "cell_type": "code",
   "execution_count": 2,
   "metadata": {},
   "outputs": [
    {
     "data": {
      "text/plain": [
       "12924"
      ]
     },
     "execution_count": 2,
     "metadata": {},
     "output_type": "execute_result"
    }
   ],
   "source": [
    "usedata= np.genfromtxt(\"cosmos.v1.3.8.cat\", names= True) \n",
    "len(usedata[usedata['use']==1]) # Use ==1 is high quality data, use ==0 is low quality data"
   ]
  },
  {
   "cell_type": "code",
   "execution_count": 3,
   "metadata": {},
   "outputs": [
    {
     "data": {
      "text/plain": [
       "20786"
      ]
     },
     "execution_count": 3,
     "metadata": {},
     "output_type": "execute_result"
    }
   ],
   "source": [
    "len(data)"
   ]
  },
  {
   "cell_type": "code",
   "execution_count": 4,
   "metadata": {},
   "outputs": [
    {
     "data": {
      "text/plain": [
       "12924"
      ]
     },
     "execution_count": 4,
     "metadata": {},
     "output_type": "execute_result"
    }
   ],
   "source": [
    "data=data[usedata['use']==1] # selecting data with use==1 only \n",
    "pd.DataFrame(data)\n",
    "len(data)"
   ]
  },
  {
   "cell_type": "markdown",
   "metadata": {},
   "source": [
    "##### Selecting data to analyse from the high quality data\n",
    "For this project, galaxy with a a stellar mass (log[M/M$_{\\odot}$]) greater than 10, these galaxies are beleived to be big enough to host an AGN, and ZFOURGE between the redshift of 1 to 4"
   ]
  },
  {
   "cell_type": "code",
   "execution_count": 5,
   "metadata": {},
   "outputs": [
    {
     "data": {
      "text/plain": [
       "array([(  623., 1.8078, 9.2, 0.02, 9.5, 1.3, 10.26,  0.49,  -9.76, 0.3, 0.637),\n",
       "       (  625., 2.8444, 7. , 0.02, 8.5, 0.6, 10.12, -9.94, -20.05, 1.5, 0.791),\n",
       "       (  678., 2.1491, 8.2, 0.02, 8.6, 2.5, 10.64,  1.56,  -9.09, 0.4, 0.856),\n",
       "       ...,\n",
       "       (20736., 2.041 , 9.2, 0.02, 9.5, 0.4, 10.35,  0.58,  -9.76, 0.3, 0.795),\n",
       "       (20772., 1.7523, 8.4, 0.02, 8.5, 1.5, 10.18,  1.53,  -8.65, 0.1, 1.27 ),\n",
       "       (20774., 1.6054, 8. , 0.02, 8.5, 0.6, 10.24,  1.05,  -9.19, 0.5, 1.29 )],\n",
       "      dtype=[('id', '<f8'), ('z', '<f8'), ('ltau', '<f8'), ('metal', '<f8'), ('lage', '<f8'), ('Av', '<f8'), ('lmass', '<f8'), ('lsfr', '<f8'), ('lssfr', '<f8'), ('la2t', '<f8'), ('chi2', '<f8')])"
      ]
     },
     "execution_count": 5,
     "metadata": {},
     "output_type": "execute_result"
    }
   ],
   "source": [
    "data=data[(data['z']>=1) & (data['z']<=4)& (data['lmass']>10)]\n",
    "\n",
    "data\n"
   ]
  },
  {
   "cell_type": "code",
   "execution_count": 6,
   "metadata": {},
   "outputs": [],
   "source": [
    "# Creating a file of IDs form the array \"data\" above\n",
    "IDs= [row[0] for row in data]\n",
    "\n",
    "with open('IDs_data.txt', 'w') as file:\n",
    "    for item in IDs:\n",
    "        file.write(f\"{item}\\n\")\n",
    "        \n"
   ]
  },
  {
   "cell_type": "code",
   "execution_count": 7,
   "metadata": {},
   "outputs": [
    {
     "data": {
      "text/plain": [
       "1321"
      ]
     },
     "execution_count": 7,
     "metadata": {},
     "output_type": "execute_result"
    }
   ],
   "source": [
    "len(IDs)"
   ]
  }
 ],
 "metadata": {
  "kernelspec": {
   "display_name": "Python 3",
   "language": "python",
   "name": "python3"
  },
  "language_info": {
   "codemirror_mode": {
    "name": "ipython",
    "version": 3
   },
   "file_extension": ".py",
   "mimetype": "text/x-python",
   "name": "python",
   "nbconvert_exporter": "python",
   "pygments_lexer": "ipython3",
   "version": "3.11.7"
  }
 },
 "nbformat": 4,
 "nbformat_minor": 2
}
